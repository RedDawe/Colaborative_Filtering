{
  "nbformat": 4,
  "nbformat_minor": 0,
  "metadata": {
    "colab": {
      "name": "restaurchant.ipynb",
      "provenance": [],
      "collapsed_sections": [],
      "toc_visible": true,
      "authorship_tag": "ABX9TyPN4ji5z7CipGHgNbw/61zR",
      "include_colab_link": true
    },
    "kernelspec": {
      "name": "python3",
      "display_name": "Python 3"
    }
  },
  "cells": [
    {
      "cell_type": "markdown",
      "metadata": {
        "id": "view-in-github",
        "colab_type": "text"
      },
      "source": [
        "<a href=\"https://colab.research.google.com/github/RedDawe/Colaborative_Filtering/blob/master/restaurchant.ipynb\" target=\"_parent\"><img src=\"https://colab.research.google.com/assets/colab-badge.svg\" alt=\"Open In Colab\"/></a>"
      ]
    },
    {
      "cell_type": "code",
      "metadata": {
        "id": "rcFpdlKsGpkU",
        "colab_type": "code",
        "colab": {}
      },
      "source": [
        "from google.colab import files\n",
        "files.upload()"
      ],
      "execution_count": 0,
      "outputs": []
    },
    {
      "cell_type": "code",
      "metadata": {
        "id": "oNI9jzVOGsqY",
        "colab_type": "code",
        "colab": {}
      },
      "source": [
        "!mkdir ~/.kaggle"
      ],
      "execution_count": 0,
      "outputs": []
    },
    {
      "cell_type": "code",
      "metadata": {
        "id": "dSAf-eABGt8K",
        "colab_type": "code",
        "colab": {}
      },
      "source": [
        "!cp kaggle.json ~/.kaggle/"
      ],
      "execution_count": 0,
      "outputs": []
    },
    {
      "cell_type": "code",
      "metadata": {
        "id": "XYX4S1uEGvdR",
        "colab_type": "code",
        "colab": {}
      },
      "source": [
        "!chmod 600 ~/.kaggle/kaggle.json"
      ],
      "execution_count": 0,
      "outputs": []
    },
    {
      "cell_type": "code",
      "metadata": {
        "id": "ShCFaUJDG6S4",
        "colab_type": "code",
        "outputId": "e1042f83-5c20-49e8-f2cd-03cd1a04dee5",
        "colab": {
          "base_uri": "https://localhost:8080/",
          "height": 68
        }
      },
      "source": [
        "!kaggle datasets download -d uciml/restaurant-data-with-consumer-ratings"
      ],
      "execution_count": 0,
      "outputs": [
        {
          "output_type": "stream",
          "text": [
            "Downloading restaurant-data-with-consumer-ratings.zip to /content\n",
            "\r  0% 0.00/38.9k [00:00<?, ?B/s]\n",
            "\r100% 38.9k/38.9k [00:00<00:00, 34.3MB/s]\n"
          ],
          "name": "stdout"
        }
      ]
    },
    {
      "cell_type": "code",
      "metadata": {
        "id": "hWMrr_kXG8cJ",
        "colab_type": "code",
        "outputId": "c5c69d90-83db-4604-80f9-8cdbe2952596",
        "colab": {
          "base_uri": "https://localhost:8080/",
          "height": 204
        }
      },
      "source": [
        "!unzip restaurant-data-with-consumer-ratings.zip"
      ],
      "execution_count": 0,
      "outputs": [
        {
          "output_type": "stream",
          "text": [
            "Archive:  restaurant-data-with-consumer-ratings.zip\n",
            "  inflating: README                  \n",
            "  inflating: chefmozaccepts.csv      \n",
            "  inflating: chefmozcuisine.csv      \n",
            "  inflating: chefmozhours4.csv       \n",
            "  inflating: chefmozparking.csv      \n",
            "  inflating: geoplaces2.csv          \n",
            "  inflating: rating_final.csv        \n",
            "  inflating: usercuisine.csv         \n",
            "  inflating: userpayment.csv         \n",
            "  inflating: userprofile.csv         \n"
          ],
          "name": "stdout"
        }
      ]
    },
    {
      "cell_type": "code",
      "metadata": {
        "id": "AKFSzMBBm_jb",
        "colab_type": "code",
        "colab": {}
      },
      "source": [
        "import tensorflow as tf\n",
        "assert tf.executing_eagerly()\n",
        "import numpy as np\n",
        "import pandas as pd\n",
        "from sklearn.preprocessing import LabelEncoder"
      ],
      "execution_count": 0,
      "outputs": []
    },
    {
      "cell_type": "code",
      "metadata": {
        "id": "S6hcOJ-8nZ9U",
        "colab_type": "code",
        "outputId": "aaa2e2c5-c448-4ea6-dc97-ac8d81c26b8d",
        "colab": {
          "base_uri": "https://localhost:8080/",
          "height": 204
        }
      },
      "source": [
        "ratings = pd.read_csv('rating_final.csv')\n",
        "ratings.head()"
      ],
      "execution_count": 0,
      "outputs": [
        {
          "output_type": "execute_result",
          "data": {
            "text/html": [
              "<div>\n",
              "<style scoped>\n",
              "    .dataframe tbody tr th:only-of-type {\n",
              "        vertical-align: middle;\n",
              "    }\n",
              "\n",
              "    .dataframe tbody tr th {\n",
              "        vertical-align: top;\n",
              "    }\n",
              "\n",
              "    .dataframe thead th {\n",
              "        text-align: right;\n",
              "    }\n",
              "</style>\n",
              "<table border=\"1\" class=\"dataframe\">\n",
              "  <thead>\n",
              "    <tr style=\"text-align: right;\">\n",
              "      <th></th>\n",
              "      <th>userID</th>\n",
              "      <th>placeID</th>\n",
              "      <th>rating</th>\n",
              "      <th>food_rating</th>\n",
              "      <th>service_rating</th>\n",
              "    </tr>\n",
              "  </thead>\n",
              "  <tbody>\n",
              "    <tr>\n",
              "      <th>0</th>\n",
              "      <td>U1077</td>\n",
              "      <td>135085</td>\n",
              "      <td>2</td>\n",
              "      <td>2</td>\n",
              "      <td>2</td>\n",
              "    </tr>\n",
              "    <tr>\n",
              "      <th>1</th>\n",
              "      <td>U1077</td>\n",
              "      <td>135038</td>\n",
              "      <td>2</td>\n",
              "      <td>2</td>\n",
              "      <td>1</td>\n",
              "    </tr>\n",
              "    <tr>\n",
              "      <th>2</th>\n",
              "      <td>U1077</td>\n",
              "      <td>132825</td>\n",
              "      <td>2</td>\n",
              "      <td>2</td>\n",
              "      <td>2</td>\n",
              "    </tr>\n",
              "    <tr>\n",
              "      <th>3</th>\n",
              "      <td>U1077</td>\n",
              "      <td>135060</td>\n",
              "      <td>1</td>\n",
              "      <td>2</td>\n",
              "      <td>2</td>\n",
              "    </tr>\n",
              "    <tr>\n",
              "      <th>4</th>\n",
              "      <td>U1068</td>\n",
              "      <td>135104</td>\n",
              "      <td>1</td>\n",
              "      <td>1</td>\n",
              "      <td>2</td>\n",
              "    </tr>\n",
              "  </tbody>\n",
              "</table>\n",
              "</div>"
            ],
            "text/plain": [
              "  userID  placeID  rating  food_rating  service_rating\n",
              "0  U1077   135085       2            2               2\n",
              "1  U1077   135038       2            2               1\n",
              "2  U1077   132825       2            2               2\n",
              "3  U1077   135060       1            2               2\n",
              "4  U1068   135104       1            1               2"
            ]
          },
          "metadata": {
            "tags": []
          },
          "execution_count": 35
        }
      ]
    },
    {
      "cell_type": "code",
      "metadata": {
        "id": "6KRdgBrCvb3t",
        "colab_type": "code",
        "outputId": "6af7c2e5-8a83-46fa-d99c-9d27ff4aeaa0",
        "colab": {
          "base_uri": "https://localhost:8080/",
          "height": 204
        }
      },
      "source": [
        "ratings = ratings.iloc[:, :3]\n",
        "ratings.head()"
      ],
      "execution_count": 0,
      "outputs": [
        {
          "output_type": "execute_result",
          "data": {
            "text/html": [
              "<div>\n",
              "<style scoped>\n",
              "    .dataframe tbody tr th:only-of-type {\n",
              "        vertical-align: middle;\n",
              "    }\n",
              "\n",
              "    .dataframe tbody tr th {\n",
              "        vertical-align: top;\n",
              "    }\n",
              "\n",
              "    .dataframe thead th {\n",
              "        text-align: right;\n",
              "    }\n",
              "</style>\n",
              "<table border=\"1\" class=\"dataframe\">\n",
              "  <thead>\n",
              "    <tr style=\"text-align: right;\">\n",
              "      <th></th>\n",
              "      <th>userID</th>\n",
              "      <th>placeID</th>\n",
              "      <th>rating</th>\n",
              "    </tr>\n",
              "  </thead>\n",
              "  <tbody>\n",
              "    <tr>\n",
              "      <th>0</th>\n",
              "      <td>U1077</td>\n",
              "      <td>135085</td>\n",
              "      <td>2</td>\n",
              "    </tr>\n",
              "    <tr>\n",
              "      <th>1</th>\n",
              "      <td>U1077</td>\n",
              "      <td>135038</td>\n",
              "      <td>2</td>\n",
              "    </tr>\n",
              "    <tr>\n",
              "      <th>2</th>\n",
              "      <td>U1077</td>\n",
              "      <td>132825</td>\n",
              "      <td>2</td>\n",
              "    </tr>\n",
              "    <tr>\n",
              "      <th>3</th>\n",
              "      <td>U1077</td>\n",
              "      <td>135060</td>\n",
              "      <td>1</td>\n",
              "    </tr>\n",
              "    <tr>\n",
              "      <th>4</th>\n",
              "      <td>U1068</td>\n",
              "      <td>135104</td>\n",
              "      <td>1</td>\n",
              "    </tr>\n",
              "  </tbody>\n",
              "</table>\n",
              "</div>"
            ],
            "text/plain": [
              "  userID  placeID  rating\n",
              "0  U1077   135085       2\n",
              "1  U1077   135038       2\n",
              "2  U1077   132825       2\n",
              "3  U1077   135060       1\n",
              "4  U1068   135104       1"
            ]
          },
          "metadata": {
            "tags": []
          },
          "execution_count": 36
        }
      ]
    },
    {
      "cell_type": "code",
      "metadata": {
        "id": "WU1h1Wiiw9Jj",
        "colab_type": "code",
        "outputId": "2e76620b-8553-49cc-e2ce-a7ae277fb7f3",
        "colab": {
          "base_uri": "https://localhost:8080/",
          "height": 204
        }
      },
      "source": [
        "ratings['userID'] = LabelEncoder().fit_transform(ratings['userID'])\n",
        "ratings['placeID'] = LabelEncoder().fit_transform(ratings['placeID'])\n",
        "ratings.head()"
      ],
      "execution_count": 0,
      "outputs": [
        {
          "output_type": "execute_result",
          "data": {
            "text/html": [
              "<div>\n",
              "<style scoped>\n",
              "    .dataframe tbody tr th:only-of-type {\n",
              "        vertical-align: middle;\n",
              "    }\n",
              "\n",
              "    .dataframe tbody tr th {\n",
              "        vertical-align: top;\n",
              "    }\n",
              "\n",
              "    .dataframe thead th {\n",
              "        text-align: right;\n",
              "    }\n",
              "</style>\n",
              "<table border=\"1\" class=\"dataframe\">\n",
              "  <thead>\n",
              "    <tr style=\"text-align: right;\">\n",
              "      <th></th>\n",
              "      <th>userID</th>\n",
              "      <th>placeID</th>\n",
              "      <th>rating</th>\n",
              "    </tr>\n",
              "  </thead>\n",
              "  <tbody>\n",
              "    <tr>\n",
              "      <th>0</th>\n",
              "      <td>76</td>\n",
              "      <td>123</td>\n",
              "      <td>2</td>\n",
              "    </tr>\n",
              "    <tr>\n",
              "      <th>1</th>\n",
              "      <td>76</td>\n",
              "      <td>84</td>\n",
              "      <td>2</td>\n",
              "    </tr>\n",
              "    <tr>\n",
              "      <th>2</th>\n",
              "      <td>76</td>\n",
              "      <td>31</td>\n",
              "      <td>2</td>\n",
              "    </tr>\n",
              "    <tr>\n",
              "      <th>3</th>\n",
              "      <td>76</td>\n",
              "      <td>105</td>\n",
              "      <td>1</td>\n",
              "    </tr>\n",
              "    <tr>\n",
              "      <th>4</th>\n",
              "      <td>67</td>\n",
              "      <td>126</td>\n",
              "      <td>1</td>\n",
              "    </tr>\n",
              "  </tbody>\n",
              "</table>\n",
              "</div>"
            ],
            "text/plain": [
              "   userID  placeID  rating\n",
              "0      76      123       2\n",
              "1      76       84       2\n",
              "2      76       31       2\n",
              "3      76      105       1\n",
              "4      67      126       1"
            ]
          },
          "metadata": {
            "tags": []
          },
          "execution_count": 51
        }
      ]
    },
    {
      "cell_type": "code",
      "metadata": {
        "id": "bHyKMS3SyKmw",
        "colab_type": "code",
        "outputId": "c7423a07-7398-4b1c-8608-bc9c0039b945",
        "colab": {
          "base_uri": "https://localhost:8080/",
          "height": 34
        }
      },
      "source": [
        "print(ratings['userID'].max(), ratings['placeID'].max())"
      ],
      "execution_count": 0,
      "outputs": [
        {
          "output_type": "stream",
          "text": [
            "137 129\n"
          ],
          "name": "stdout"
        }
      ]
    },
    {
      "cell_type": "code",
      "metadata": {
        "id": "zTLWfHlZs3ca",
        "colab_type": "code",
        "outputId": "89d2743e-5970-4a07-a0aa-dac828d72f65",
        "colab": {
          "base_uri": "https://localhost:8080/",
          "height": 442
        }
      },
      "source": [
        "user_input = tf.keras.Input(shape=[1])\n",
        "place_input = tf.keras.Input(shape=[1])\n",
        "\n",
        "user = tf.keras.layers.Embedding(137+1, 10, input_length=1)(user_input)\n",
        "place = tf.keras.layers.Embedding(129+1, 10, input_length=1)(place_input)\n",
        "\n",
        "user = tf.keras.layers.Flatten()(user)\n",
        "place = tf.keras.layers.Flatten()(place)\n",
        "\n",
        "#model = tf.reduce_sum(user * place)\n",
        "model = tf.keras.layers.Concatenate()(list([user, place]))\n",
        "model = tf.keras.layers.Dense(1)(model)\n",
        "\n",
        "model = tf.keras.Model([user_input, place_input], model)\n",
        "model.summary()"
      ],
      "execution_count": 0,
      "outputs": [
        {
          "output_type": "stream",
          "text": [
            "Model: \"model_14\"\n",
            "__________________________________________________________________________________________________\n",
            "Layer (type)                    Output Shape         Param #     Connected to                     \n",
            "==================================================================================================\n",
            "input_30 (InputLayer)           [(None, 1)]          0                                            \n",
            "__________________________________________________________________________________________________\n",
            "input_31 (InputLayer)           [(None, 1)]          0                                            \n",
            "__________________________________________________________________________________________________\n",
            "embedding_29 (Embedding)        (None, 1, 10)        1380        input_30[0][0]                   \n",
            "__________________________________________________________________________________________________\n",
            "embedding_30 (Embedding)        (None, 1, 10)        1300        input_31[0][0]                   \n",
            "__________________________________________________________________________________________________\n",
            "flatten_22 (Flatten)            (None, 10)           0           embedding_29[0][0]               \n",
            "__________________________________________________________________________________________________\n",
            "flatten_23 (Flatten)            (None, 10)           0           embedding_30[0][0]               \n",
            "__________________________________________________________________________________________________\n",
            "concatenate_3 (Concatenate)     (None, 20)           0           flatten_22[0][0]                 \n",
            "                                                                 flatten_23[0][0]                 \n",
            "__________________________________________________________________________________________________\n",
            "dense_6 (Dense)                 (None, 1)            21          concatenate_3[0][0]              \n",
            "==================================================================================================\n",
            "Total params: 2,701\n",
            "Trainable params: 2,701\n",
            "Non-trainable params: 0\n",
            "__________________________________________________________________________________________________\n"
          ],
          "name": "stdout"
        }
      ]
    },
    {
      "cell_type": "code",
      "metadata": {
        "id": "AUy_qf8f1zgB",
        "colab_type": "code",
        "colab": {}
      },
      "source": [
        "model.compile(optimizer='adam', loss='mean_squared_error')"
      ],
      "execution_count": 0,
      "outputs": []
    },
    {
      "cell_type": "code",
      "metadata": {
        "id": "Q5C8nY8414E6",
        "colab_type": "code",
        "outputId": "d38bbeb3-44aa-496d-dda9-f312ae348f4e",
        "colab": {
          "base_uri": "https://localhost:8080/",
          "height": 1000
        }
      },
      "source": [
        "model.fit([ratings['userID'].to_numpy(), ratings['placeID'].to_numpy()], ratings['rating'].to_numpy(), epochs=100, validation_split=0.2)"
      ],
      "execution_count": 0,
      "outputs": [
        {
          "output_type": "stream",
          "text": [
            "Train on 928 samples, validate on 233 samples\n",
            "Epoch 1/100\n",
            "928/928 [==============================] - 0s 390us/sample - loss: 0.2817 - val_loss: 0.1903\n",
            "Epoch 2/100\n",
            "928/928 [==============================] - 0s 72us/sample - loss: 0.2805 - val_loss: 0.1974\n",
            "Epoch 3/100\n",
            "928/928 [==============================] - 0s 64us/sample - loss: 0.2800 - val_loss: 0.2049\n",
            "Epoch 4/100\n",
            "928/928 [==============================] - 0s 67us/sample - loss: 0.2782 - val_loss: 0.2113\n",
            "Epoch 5/100\n",
            "928/928 [==============================] - 0s 67us/sample - loss: 0.2771 - val_loss: 0.2174\n",
            "Epoch 6/100\n",
            "928/928 [==============================] - 0s 74us/sample - loss: 0.2764 - val_loss: 0.2227\n",
            "Epoch 7/100\n",
            "928/928 [==============================] - 0s 72us/sample - loss: 0.2761 - val_loss: 0.2283\n",
            "Epoch 8/100\n",
            "928/928 [==============================] - 0s 68us/sample - loss: 0.2755 - val_loss: 0.2320\n",
            "Epoch 9/100\n",
            "928/928 [==============================] - 0s 69us/sample - loss: 0.2753 - val_loss: 0.2379\n",
            "Epoch 10/100\n",
            "928/928 [==============================] - 0s 69us/sample - loss: 0.2743 - val_loss: 0.2410\n",
            "Epoch 11/100\n",
            "928/928 [==============================] - 0s 67us/sample - loss: 0.2735 - val_loss: 0.2451\n",
            "Epoch 12/100\n",
            "928/928 [==============================] - 0s 67us/sample - loss: 0.2742 - val_loss: 0.2494\n",
            "Epoch 13/100\n",
            "928/928 [==============================] - 0s 62us/sample - loss: 0.2735 - val_loss: 0.2532\n",
            "Epoch 14/100\n",
            "928/928 [==============================] - 0s 68us/sample - loss: 0.2733 - val_loss: 0.2570\n",
            "Epoch 15/100\n",
            "928/928 [==============================] - 0s 74us/sample - loss: 0.2727 - val_loss: 0.2598\n",
            "Epoch 16/100\n",
            "928/928 [==============================] - 0s 67us/sample - loss: 0.2731 - val_loss: 0.2631\n",
            "Epoch 17/100\n",
            "928/928 [==============================] - 0s 72us/sample - loss: 0.2730 - val_loss: 0.2662\n",
            "Epoch 18/100\n",
            "928/928 [==============================] - 0s 69us/sample - loss: 0.2732 - val_loss: 0.2691\n",
            "Epoch 19/100\n",
            "928/928 [==============================] - 0s 70us/sample - loss: 0.2728 - val_loss: 0.2714\n",
            "Epoch 20/100\n",
            "928/928 [==============================] - 0s 73us/sample - loss: 0.2727 - val_loss: 0.2737\n",
            "Epoch 21/100\n",
            "928/928 [==============================] - 0s 71us/sample - loss: 0.2728 - val_loss: 0.2768\n",
            "Epoch 22/100\n",
            "928/928 [==============================] - 0s 74us/sample - loss: 0.2722 - val_loss: 0.2796\n",
            "Epoch 23/100\n",
            "928/928 [==============================] - 0s 71us/sample - loss: 0.2727 - val_loss: 0.2824\n",
            "Epoch 24/100\n",
            "928/928 [==============================] - 0s 71us/sample - loss: 0.2714 - val_loss: 0.2856\n",
            "Epoch 25/100\n",
            "928/928 [==============================] - 0s 75us/sample - loss: 0.2720 - val_loss: 0.2880\n",
            "Epoch 26/100\n",
            "928/928 [==============================] - 0s 72us/sample - loss: 0.2731 - val_loss: 0.2903\n",
            "Epoch 27/100\n",
            "928/928 [==============================] - 0s 72us/sample - loss: 0.2726 - val_loss: 0.2912\n",
            "Epoch 28/100\n",
            "928/928 [==============================] - 0s 70us/sample - loss: 0.2713 - val_loss: 0.2934\n",
            "Epoch 29/100\n",
            "928/928 [==============================] - 0s 67us/sample - loss: 0.2717 - val_loss: 0.2946\n",
            "Epoch 30/100\n",
            "928/928 [==============================] - 0s 67us/sample - loss: 0.2718 - val_loss: 0.2976\n",
            "Epoch 31/100\n",
            "928/928 [==============================] - 0s 73us/sample - loss: 0.2717 - val_loss: 0.2999\n",
            "Epoch 32/100\n",
            "928/928 [==============================] - 0s 73us/sample - loss: 0.2714 - val_loss: 0.3009\n",
            "Epoch 33/100\n",
            "928/928 [==============================] - 0s 74us/sample - loss: 0.2721 - val_loss: 0.3028\n",
            "Epoch 34/100\n",
            "928/928 [==============================] - 0s 69us/sample - loss: 0.2723 - val_loss: 0.3044\n",
            "Epoch 35/100\n",
            "928/928 [==============================] - 0s 81us/sample - loss: 0.2715 - val_loss: 0.3069\n",
            "Epoch 36/100\n",
            "928/928 [==============================] - 0s 70us/sample - loss: 0.2718 - val_loss: 0.3080\n",
            "Epoch 37/100\n",
            "928/928 [==============================] - 0s 67us/sample - loss: 0.2713 - val_loss: 0.3093\n",
            "Epoch 38/100\n",
            "928/928 [==============================] - 0s 69us/sample - loss: 0.2716 - val_loss: 0.3113\n",
            "Epoch 39/100\n",
            "928/928 [==============================] - 0s 69us/sample - loss: 0.2709 - val_loss: 0.3130\n",
            "Epoch 40/100\n",
            "928/928 [==============================] - 0s 75us/sample - loss: 0.2717 - val_loss: 0.3149\n",
            "Epoch 41/100\n",
            "928/928 [==============================] - 0s 69us/sample - loss: 0.2714 - val_loss: 0.3167\n",
            "Epoch 42/100\n",
            "928/928 [==============================] - 0s 71us/sample - loss: 0.2716 - val_loss: 0.3161\n",
            "Epoch 43/100\n",
            "928/928 [==============================] - 0s 75us/sample - loss: 0.2715 - val_loss: 0.3181\n",
            "Epoch 44/100\n",
            "928/928 [==============================] - 0s 79us/sample - loss: 0.2714 - val_loss: 0.3202\n",
            "Epoch 45/100\n",
            "928/928 [==============================] - 0s 69us/sample - loss: 0.2714 - val_loss: 0.3210\n",
            "Epoch 46/100\n",
            "928/928 [==============================] - 0s 68us/sample - loss: 0.2714 - val_loss: 0.3222\n",
            "Epoch 47/100\n",
            "928/928 [==============================] - 0s 70us/sample - loss: 0.2712 - val_loss: 0.3235\n",
            "Epoch 48/100\n",
            "928/928 [==============================] - 0s 69us/sample - loss: 0.2716 - val_loss: 0.3241\n",
            "Epoch 49/100\n",
            "928/928 [==============================] - 0s 71us/sample - loss: 0.2710 - val_loss: 0.3266\n",
            "Epoch 50/100\n",
            "928/928 [==============================] - 0s 66us/sample - loss: 0.2712 - val_loss: 0.3269\n",
            "Epoch 51/100\n",
            "928/928 [==============================] - 0s 68us/sample - loss: 0.2708 - val_loss: 0.3279\n",
            "Epoch 52/100\n",
            "928/928 [==============================] - 0s 71us/sample - loss: 0.2709 - val_loss: 0.3291\n",
            "Epoch 53/100\n",
            "928/928 [==============================] - 0s 70us/sample - loss: 0.2714 - val_loss: 0.3286\n",
            "Epoch 54/100\n",
            "928/928 [==============================] - 0s 70us/sample - loss: 0.2710 - val_loss: 0.3303\n",
            "Epoch 55/100\n",
            "928/928 [==============================] - 0s 68us/sample - loss: 0.2713 - val_loss: 0.3328\n",
            "Epoch 56/100\n",
            "928/928 [==============================] - 0s 69us/sample - loss: 0.2712 - val_loss: 0.3317\n",
            "Epoch 57/100\n",
            "928/928 [==============================] - 0s 67us/sample - loss: 0.2716 - val_loss: 0.3326\n",
            "Epoch 58/100\n",
            "928/928 [==============================] - 0s 67us/sample - loss: 0.2708 - val_loss: 0.3333\n",
            "Epoch 59/100\n",
            "928/928 [==============================] - 0s 66us/sample - loss: 0.2707 - val_loss: 0.3347\n",
            "Epoch 60/100\n",
            "928/928 [==============================] - 0s 67us/sample - loss: 0.2705 - val_loss: 0.3366\n",
            "Epoch 61/100\n",
            "928/928 [==============================] - 0s 74us/sample - loss: 0.2711 - val_loss: 0.3362\n",
            "Epoch 62/100\n",
            "928/928 [==============================] - 0s 65us/sample - loss: 0.2714 - val_loss: 0.3372\n",
            "Epoch 63/100\n",
            "928/928 [==============================] - 0s 62us/sample - loss: 0.2710 - val_loss: 0.3369\n",
            "Epoch 64/100\n",
            "928/928 [==============================] - 0s 67us/sample - loss: 0.2710 - val_loss: 0.3394\n",
            "Epoch 65/100\n",
            "928/928 [==============================] - 0s 63us/sample - loss: 0.2707 - val_loss: 0.3387\n",
            "Epoch 66/100\n",
            "928/928 [==============================] - 0s 64us/sample - loss: 0.2710 - val_loss: 0.3402\n",
            "Epoch 67/100\n",
            "928/928 [==============================] - 0s 65us/sample - loss: 0.2712 - val_loss: 0.3395\n",
            "Epoch 68/100\n",
            "928/928 [==============================] - 0s 72us/sample - loss: 0.2712 - val_loss: 0.3410\n",
            "Epoch 69/100\n",
            "928/928 [==============================] - 0s 72us/sample - loss: 0.2711 - val_loss: 0.3406\n",
            "Epoch 70/100\n",
            "928/928 [==============================] - 0s 72us/sample - loss: 0.2719 - val_loss: 0.3419\n",
            "Epoch 71/100\n",
            "928/928 [==============================] - 0s 77us/sample - loss: 0.2705 - val_loss: 0.3428\n",
            "Epoch 72/100\n",
            "928/928 [==============================] - 0s 76us/sample - loss: 0.2710 - val_loss: 0.3431\n",
            "Epoch 73/100\n",
            "928/928 [==============================] - 0s 68us/sample - loss: 0.2710 - val_loss: 0.3433\n",
            "Epoch 74/100\n",
            "928/928 [==============================] - 0s 68us/sample - loss: 0.2714 - val_loss: 0.3437\n",
            "Epoch 75/100\n",
            "928/928 [==============================] - 0s 72us/sample - loss: 0.2710 - val_loss: 0.3438\n",
            "Epoch 76/100\n",
            "928/928 [==============================] - 0s 65us/sample - loss: 0.2703 - val_loss: 0.3444\n",
            "Epoch 77/100\n",
            "928/928 [==============================] - 0s 71us/sample - loss: 0.2712 - val_loss: 0.3454\n",
            "Epoch 78/100\n",
            "928/928 [==============================] - 0s 68us/sample - loss: 0.2707 - val_loss: 0.3452\n",
            "Epoch 79/100\n",
            "928/928 [==============================] - 0s 74us/sample - loss: 0.2710 - val_loss: 0.3465\n",
            "Epoch 80/100\n",
            "928/928 [==============================] - 0s 72us/sample - loss: 0.2713 - val_loss: 0.3465\n",
            "Epoch 81/100\n",
            "928/928 [==============================] - 0s 69us/sample - loss: 0.2710 - val_loss: 0.3459\n",
            "Epoch 82/100\n",
            "928/928 [==============================] - 0s 72us/sample - loss: 0.2710 - val_loss: 0.3477\n",
            "Epoch 83/100\n",
            "928/928 [==============================] - 0s 68us/sample - loss: 0.2708 - val_loss: 0.3482\n",
            "Epoch 84/100\n",
            "928/928 [==============================] - 0s 66us/sample - loss: 0.2710 - val_loss: 0.3475\n",
            "Epoch 85/100\n",
            "928/928 [==============================] - 0s 76us/sample - loss: 0.2715 - val_loss: 0.3481\n",
            "Epoch 86/100\n",
            "928/928 [==============================] - 0s 68us/sample - loss: 0.2707 - val_loss: 0.3485\n",
            "Epoch 87/100\n",
            "928/928 [==============================] - 0s 66us/sample - loss: 0.2705 - val_loss: 0.3483\n",
            "Epoch 88/100\n",
            "928/928 [==============================] - 0s 69us/sample - loss: 0.2707 - val_loss: 0.3479\n",
            "Epoch 89/100\n",
            "928/928 [==============================] - 0s 68us/sample - loss: 0.2708 - val_loss: 0.3507\n",
            "Epoch 90/100\n",
            "928/928 [==============================] - 0s 66us/sample - loss: 0.2707 - val_loss: 0.3500\n",
            "Epoch 91/100\n",
            "928/928 [==============================] - 0s 64us/sample - loss: 0.2709 - val_loss: 0.3506\n",
            "Epoch 92/100\n",
            "928/928 [==============================] - 0s 67us/sample - loss: 0.2705 - val_loss: 0.3502\n",
            "Epoch 93/100\n",
            "928/928 [==============================] - 0s 69us/sample - loss: 0.2709 - val_loss: 0.3509\n",
            "Epoch 94/100\n",
            "928/928 [==============================] - 0s 70us/sample - loss: 0.2709 - val_loss: 0.3519\n",
            "Epoch 95/100\n",
            "928/928 [==============================] - 0s 68us/sample - loss: 0.2705 - val_loss: 0.3515\n",
            "Epoch 96/100\n",
            "928/928 [==============================] - 0s 67us/sample - loss: 0.2706 - val_loss: 0.3517\n",
            "Epoch 97/100\n",
            "928/928 [==============================] - 0s 68us/sample - loss: 0.2713 - val_loss: 0.3524\n",
            "Epoch 98/100\n",
            "928/928 [==============================] - 0s 64us/sample - loss: 0.2707 - val_loss: 0.3529\n",
            "Epoch 99/100\n",
            "928/928 [==============================] - 0s 64us/sample - loss: 0.2707 - val_loss: 0.3534\n",
            "Epoch 100/100\n",
            "928/928 [==============================] - 0s 66us/sample - loss: 0.2707 - val_loss: 0.3529\n"
          ],
          "name": "stdout"
        },
        {
          "output_type": "execute_result",
          "data": {
            "text/plain": [
              "<tensorflow.python.keras.callbacks.History at 0x7f064a7c4b38>"
            ]
          },
          "metadata": {
            "tags": []
          },
          "execution_count": 81
        }
      ]
    },
    {
      "cell_type": "markdown",
      "metadata": {
        "id": "msJqgGeARIOD",
        "colab_type": "text"
      },
      "source": [
        "Simple colaborative filtering produces comparable results to models using user nad restaurant features, without having to acces and store such information."
      ]
    },
    {
      "cell_type": "code",
      "metadata": {
        "id": "hyXPCwWURQ_V",
        "colab_type": "code",
        "colab": {}
      },
      "source": [
        ""
      ],
      "execution_count": 0,
      "outputs": []
    }
  ]
}